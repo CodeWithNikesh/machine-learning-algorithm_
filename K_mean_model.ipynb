{
  "nbformat": 4,
  "nbformat_minor": 0,
  "metadata": {
    "colab": {
      "private_outputs": true,
      "provenance": []
    },
    "kernelspec": {
      "name": "python3",
      "display_name": "Python 3"
    },
    "language_info": {
      "name": "python"
    }
  },
  "cells": [
    {
      "cell_type": "code",
      "execution_count": null,
      "metadata": {
        "id": "oTuYhRsuJUeA"
      },
      "outputs": [],
      "source": [
        "import numpy as np\n",
        "import pandas as pd\n",
        "import matplotlib.pyplot as plt\n",
        "import seaborn as sns\n",
        "\n",
        "from sklearn.cluster import KMeans"
      ]
    },
    {
      "cell_type": "code",
      "source": [
        "#  generating dataset\n",
        "np.random.seed(42)\n",
        "data = { 'annualincome':np.random.randint(30000,100000,100),\n",
        "        'spendingscore':np.random.randint(1,100,100)}"
      ],
      "metadata": {
        "id": "F2BT0FGQJ1wu"
      },
      "execution_count": null,
      "outputs": []
    },
    {
      "cell_type": "code",
      "source": [
        "# creating dataframe\n",
        "df = pd.DataFrame(data)\n",
        "df"
      ],
      "metadata": {
        "id": "lIlJK54mK2V5"
      },
      "execution_count": null,
      "outputs": []
    },
    {
      "cell_type": "code",
      "source": [
        "#\n",
        "sns.scatterplot(x = df['annualincome'],y = df['spendingscore'],palette='mako')\n",
        "plt.title('customer data - annual income vs spending score')"
      ],
      "metadata": {
        "id": "skeuj4ysLH_a"
      },
      "execution_count": null,
      "outputs": []
    },
    {
      "cell_type": "code",
      "source": [
        "X = df.values\n",
        "kmeans = KMeans(n_clusters=3,random_state = 42)\n",
        "df['cluster'] = kmeans.fit_predict(X)"
      ],
      "metadata": {
        "id": "ec8N4c7fMlm2"
      },
      "execution_count": null,
      "outputs": []
    },
    {
      "cell_type": "code",
      "source": [
        "df"
      ],
      "metadata": {
        "id": "FAvpt0ZkNOF6"
      },
      "execution_count": null,
      "outputs": []
    },
    {
      "cell_type": "markdown",
      "source": [
        "#student"
      ],
      "metadata": {
        "id": "gySaaXEggGpo"
      }
    },
    {
      "cell_type": "code",
      "source": [
        "df_std = pd.read_csv('/content/student_clustering.csv')\n",
        "df_std.dropna(inplace=True)"
      ],
      "metadata": {
        "id": "uwzGGJ2pgLSg"
      },
      "execution_count": null,
      "outputs": []
    },
    {
      "cell_type": "code",
      "source": [
        "sns.scatterplot(x=df_std['cgpa'],y=df_std['iq'])"
      ],
      "metadata": {
        "id": "NsC7ghTJhVE5"
      },
      "execution_count": null,
      "outputs": []
    },
    {
      "cell_type": "markdown",
      "source": [
        "elbow method: to find the n_cluster number"
      ],
      "metadata": {
        "id": "rd4n4Oxnhv8e"
      }
    },
    {
      "cell_type": "code",
      "source": [
        "wcss= []\n",
        "for i in range(1,11):\n",
        "  km = KMeans(n_clusters=i)\n",
        "  km.fit_predict(df_std)\n",
        "  wcss.append(km.inertia_)"
      ],
      "metadata": {
        "id": "eS8PIipYhpBO"
      },
      "execution_count": null,
      "outputs": []
    },
    {
      "cell_type": "code",
      "source": [
        "wcss"
      ],
      "metadata": {
        "id": "5lK9Fx4Hho98"
      },
      "execution_count": null,
      "outputs": []
    },
    {
      "cell_type": "code",
      "source": [
        "sns.lineplot(x = range(1,11),y = wcss)"
      ],
      "metadata": {
        "id": "mi6sw11Uho7R"
      },
      "execution_count": null,
      "outputs": []
    },
    {
      "cell_type": "code",
      "source": [
        "X=df_std.iloc[:,:].values\n",
        "\n",
        "km =KMeans(n_clusters=4)\n",
        "y_mean = km.fit_predict(X)\n",
        "\n",
        "sns.scatterplot(x = X[y_mean==0,0],y = X[y_mean==0,1],color='blue')\n",
        "sns.scatterplot(x = X[y_mean==1,0],y = X[y_mean==1,1],color='red')\n",
        "sns.scatterplot(x = X[y_mean==2,0],y = X[y_mean==2,1],color='green')\n",
        "sns.scatterplot(x = X[y_mean==3,0],y = X[y_mean==3,1],color='pink')\n",
        "\n"
      ],
      "metadata": {
        "id": "ywXzgHKR5Y1q"
      },
      "execution_count": null,
      "outputs": []
    },
    {
      "cell_type": "code",
      "source": [
        "# scatter plot after  cluster\n",
        "sns.scatterplot(x=df['annualincome'],y=df['spendingscore'],hue=df['cluster'],palette='viridis')"
      ],
      "metadata": {
        "id": "NDyGt4XRNi41"
      },
      "execution_count": null,
      "outputs": []
    },
    {
      "cell_type": "code",
      "source": [
        "# user input\n",
        "user_input = {'annualincome':[99900],'spendingscore':[70]}\n",
        "user_df = pd.DataFrame(user_input)\n",
        "\n",
        "user_cluster = kmeans.predict(user_df)\n",
        "print(f'The users belong to cluster {user_cluster[0]}')"
      ],
      "metadata": {
        "id": "qMvxOeXUOY8M"
      },
      "execution_count": null,
      "outputs": []
    },
    {
      "cell_type": "code",
      "source": [
        "print(df.head(3))"
      ],
      "metadata": {
        "id": "I4fivMI-QZ82"
      },
      "execution_count": null,
      "outputs": []
    },
    {
      "cell_type": "markdown",
      "source": [
        "#CREATING KMEANS CLASS"
      ],
      "metadata": {
        "id": "Ez5EErGlSt40"
      }
    },
    {
      "cell_type": "code",
      "source": [
        "import random\n",
        "\n",
        "class  KMeans:\n",
        "\n",
        "  def __init__(self,n_cluster=2,max_iter=100):\n",
        "    self.n_cluster = n_cluster\n",
        "    self.max_iter = max_iter\n",
        "    self.centroid = None\n",
        "\n",
        "  def fit_predict(self,X):\n",
        "    random_index = random.sample(range(0,X.shape[0]),self.n_cluster)\n",
        "    self.centroid = X[random_index]\n",
        "\n",
        "    for i in range(self.max_iter):\n",
        "\n",
        "      # assigh cluster\n",
        "      cluster_group = self.assign_clusters(X)\n",
        "\n",
        "      # move cecluster_groupntroids\n",
        "      old_centroids =  self.centroids\n",
        "      self.centroids = self.move_centroids(X,cluster_group)\n",
        "\n",
        "\n",
        "      # check finish\n",
        "      if (old_centroids== self.centroids).all():\n",
        "        break\n",
        "    return cluster_group\n",
        "\n",
        "\n",
        "\n",
        "    def assign_clusters(self,X):\n",
        "      cluster_group = []\n",
        "      distances = []\n",
        "\n",
        "      for row in X:\n",
        "        for centroid in self.centroids:\n",
        "          distances.append(np.sqrt(np.dot(row-centroid,row-centroid)))\n",
        "          min_distances = min(distances)\n",
        "          index_pos = distances.index(min_distances)\n",
        "          cluster_group.append(index_pos)\n",
        "          distances.clear()\n",
        "\n",
        "\n",
        "      return np.array(cluster_group)\n",
        "\n",
        "  def move_centroids(self,X,cluster_group):\n",
        "    new_centroids= []\n",
        "\n",
        "    cluster_type = np.unique(cluster_group)\n",
        "    for type in cluster_type:\n",
        "      new_centroids.append(X[cluster_group==type].mean(axis=0))\n",
        "\n",
        "    return np.array(new_centroids)"
      ],
      "metadata": {
        "id": "gyE5QGSdSy4z"
      },
      "execution_count": null,
      "outputs": []
    },
    {
      "cell_type": "code",
      "source": [
        "import random\n",
        "import numpy as np\n",
        "\n",
        "class KMeans:\n",
        "\n",
        "    def __init__(self, n_cluster=2, max_iter=100):\n",
        "        self.n_cluster = n_cluster\n",
        "        self.max_iter = max_iter\n",
        "        self.centroids = None\n",
        "\n",
        "    def fit_predict(self, X):\n",
        "        random_index = random.sample(range(0, X.shape[0]), self.n_cluster)\n",
        "        self.centroids = X[random_index]\n",
        "\n",
        "        for i in range(self.max_iter):\n",
        "\n",
        "            # assign cluster\n",
        "            cluster_group = self.assign_clusters(X)\n",
        "\n",
        "            # move centroids\n",
        "            old_centroids = self.centroids\n",
        "            self.centroids = self.move_centroids(X, cluster_group)\n",
        "\n",
        "            # check convergence\n",
        "            if (old_centroids == self.centroids).all():\n",
        "                break\n",
        "\n",
        "        return cluster_group\n",
        "\n",
        "    def assign_clusters(self, X):\n",
        "        cluster_group = []\n",
        "        distances = []\n",
        "\n",
        "        for row in X:\n",
        "            for centroid in self.centroids:\n",
        "                distances.append(np.sqrt(np.dot(row - centroid, row - centroid)))\n",
        "            min_distance = min(distances)\n",
        "            index_pos = distances.index(min_distance)\n",
        "            cluster_group.append(index_pos)\n",
        "            distances.clear()\n",
        "\n",
        "        return np.array(cluster_group)\n",
        "\n",
        "    def move_centroids(self, X, cluster_group):\n",
        "        new_centroids = []\n",
        "\n",
        "        cluster_type = np.unique(cluster_group)\n",
        "        for type in cluster_type:\n",
        "            new_centroids.append(X[cluster_group == type].mean(axis=0))\n",
        "\n",
        "        return np.array(new_centroids)\n",
        "\n",
        "    def elbow_method(self, X, max_clusters=10):\n",
        "        inertias = []\n",
        "\n",
        "        for k in range(1, max_clusters + 1):\n",
        "            self.n_cluster = k\n",
        "            cluster_group = self.fit_predict(X)\n",
        "            centroids = self.centroids\n",
        "            inertia = 0\n",
        "            for j, centroid in enumerate(centroids):\n",
        "                inertia += np.sum((X[cluster_group == j] - centroid) ** 2)\n",
        "            inertias.append(inertia)\n",
        "\n",
        "        return inertias\n"
      ],
      "metadata": {
        "id": "VSxtBTpwwF1k"
      },
      "execution_count": null,
      "outputs": []
    },
    {
      "cell_type": "markdown",
      "source": [
        "# Mall customers"
      ],
      "metadata": {
        "id": "eC_acnbPxL2x"
      }
    },
    {
      "cell_type": "code",
      "source": [],
      "metadata": {
        "id": "K2juKEg7xx3Q"
      },
      "execution_count": null,
      "outputs": []
    },
    {
      "cell_type": "code",
      "source": [
        "df_m = pd.read_csv('/content/Mall_Customers.csv')\n",
        "df_m\n"
      ],
      "metadata": {
        "id": "8yS1Sj3IxTHz"
      },
      "execution_count": null,
      "outputs": []
    },
    {
      "cell_type": "markdown",
      "source": [
        "# EDA"
      ],
      "metadata": {
        "id": "bJKyIFyGyWdd"
      }
    },
    {
      "cell_type": "code",
      "source": [
        "df_m.isnull().sum()"
      ],
      "metadata": {
        "id": "5QnI6xQAx-VY"
      },
      "execution_count": null,
      "outputs": []
    },
    {
      "cell_type": "code",
      "source": [
        "df_m.dtypes"
      ],
      "metadata": {
        "id": "m7azHyHFyiHQ"
      },
      "execution_count": null,
      "outputs": []
    },
    {
      "cell_type": "code",
      "source": [
        "X = df_m.iloc[:,[3,4]].values"
      ],
      "metadata": {
        "id": "FH_iuYcPzeYO"
      },
      "execution_count": null,
      "outputs": []
    },
    {
      "cell_type": "code",
      "source": [
        "from sklearn.cluster import KMeans\n",
        "\n",
        "wcss = []\n",
        "\n",
        "for i in range(1, 11):\n",
        "    kmeans = KMeans(n_clusters=i, init='k-means++', random_state=42)\n",
        "    kmeans.fit(X)\n",
        "    wcss.append(kmeans.inertia_)\n",
        "\n",
        "print(wcss)\n"
      ],
      "metadata": {
        "id": "zHFQS7iq0HQT"
      },
      "execution_count": null,
      "outputs": []
    },
    {
      "cell_type": "code",
      "source": [
        "sns.set()\n",
        "sns.lineplot(x=range(1,11),y=wcss)"
      ],
      "metadata": {
        "id": "rzxtixMw3fj9"
      },
      "execution_count": null,
      "outputs": []
    },
    {
      "cell_type": "markdown",
      "source": [
        "training dataset"
      ],
      "metadata": {
        "id": "58hwNJ8jhrmw"
      }
    },
    {
      "cell_type": "code",
      "source": [
        "kmeans = KMeans(n_clusters=5,init='k-means++',random_state=0)\n",
        "\n",
        "Y = kmeans.fit_predict(X)\n",
        "print(Y)"
      ],
      "metadata": {
        "id": "CzCHd5U9jGqb"
      },
      "execution_count": null,
      "outputs": []
    },
    {
      "cell_type": "markdown",
      "source": [
        "visualizing all the cluster\n",
        "\n"
      ],
      "metadata": {
        "id": "TbHDCIWumALC"
      }
    },
    {
      "cell_type": "code",
      "source": [
        "sns.scatterplot(x = X[Y==0,0],y= X[Y==0,1],s=50,c='green',label='cluster 1')\n",
        "sns.scatterplot(x = X[Y==1,0],y= X[Y==1,1],s=50,c='red',label='cluster 2')\n",
        "sns.scatterplot(x = X[Y==2,0],y= X[Y==2,1],s=50,c='blue',label='cluster 3')\n",
        "sns.scatterplot(x = X[Y==3,0],y= X[Y==3,1],s=50,c='pink',label='cluster 4')\n",
        "sns.scatterplot(x = X[Y==4,0],y= X[Y==4,1],s=50,c='yellow',label='cluster 5')\n",
        "\n",
        "plt.scatter(kmeans.cluster_centers_[:,0],kmeans.cluster_centers_[:,1],s=100,c='cyan',label='Centroids')"
      ],
      "metadata": {
        "id": "62fl6icemFhB"
      },
      "execution_count": null,
      "outputs": []
    },
    {
      "cell_type": "code",
      "source": [
        "df_m.columns"
      ],
      "metadata": {
        "id": "TQccbKcBpwhk"
      },
      "execution_count": null,
      "outputs": []
    },
    {
      "cell_type": "code",
      "source": [
        "X = df_m[['Annual Income (k$)','Spending Score (1-100)']]\n",
        "X"
      ],
      "metadata": {
        "id": "4790SWeYQ455"
      },
      "execution_count": null,
      "outputs": []
    },
    {
      "cell_type": "code",
      "source": [
        "kmeans = KMeans()\n",
        "kmeans.fit(X)\n",
        "\n",
        "kmeans.fit_predict(X)"
      ],
      "metadata": {
        "id": "wm8ekL4sRoMf"
      },
      "execution_count": null,
      "outputs": []
    },
    {
      "cell_type": "code",
      "source": [
        "wcss=[]\n",
        "\n",
        "for i  in range(1,11):\n",
        "  kmeans = KMeans(n_clusters=i)\n",
        "  kmeans.fit(X)\n",
        "  wcss.append(kmeans.inertia_)"
      ],
      "metadata": {
        "id": "Ndri9daOSJaF"
      },
      "execution_count": null,
      "outputs": []
    },
    {
      "cell_type": "code",
      "source": [
        "sns.lineplot(x=np.arange(1,11),y=wcss)"
      ],
      "metadata": {
        "id": "93nVcIKvTPhE"
      },
      "execution_count": null,
      "outputs": []
    },
    {
      "cell_type": "markdown",
      "source": [
        "model traning"
      ],
      "metadata": {
        "id": "kCBaBWb-TvCf"
      }
    },
    {
      "cell_type": "code",
      "source": [
        "X = df_m[['Annual Income (k$)','Spending Score (1-100)']]\n",
        "\n",
        "kmeans= KMeans(n_clusters=5,random_state=42)\n",
        "y_mean  = kmeans.fit_predict(X)"
      ],
      "metadata": {
        "id": "VrUszUlITuIt"
      },
      "execution_count": null,
      "outputs": []
    },
    {
      "cell_type": "code",
      "source": [
        "kmeans.predict([[28,78]])"
      ],
      "metadata": {
        "id": "p8h5pCt4Vz-D"
      },
      "execution_count": null,
      "outputs": []
    },
    {
      "cell_type": "markdown",
      "source": [
        "save model"
      ],
      "metadata": {
        "id": "kSYqNryaXr2b"
      }
    },
    {
      "cell_type": "code",
      "source": [
        "import joblib"
      ],
      "metadata": {
        "id": "CjdCmjaHXtMd"
      },
      "execution_count": null,
      "outputs": []
    },
    {
      "cell_type": "code",
      "source": [
        "joblib.dump(kmeans,'customer_seg')"
      ],
      "metadata": {
        "id": "Pv7W-RaDXvtf"
      },
      "execution_count": null,
      "outputs": []
    },
    {
      "cell_type": "code",
      "source": [
        "model = joblib.load('customer_seg')\n",
        "model.predict([[25,56]])"
      ],
      "metadata": {
        "id": "b6Dg0y9lX5hi"
      },
      "execution_count": null,
      "outputs": []
    }
  ]
}