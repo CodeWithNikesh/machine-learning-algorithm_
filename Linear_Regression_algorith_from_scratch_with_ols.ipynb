{
  "nbformat": 4,
  "nbformat_minor": 0,
  "metadata": {
    "colab": {
      "private_outputs": true,
      "provenance": [],
      "authorship_tag": "ABX9TyMOzCt9ldDIOx1gptkVK7JM",
      "include_colab_link": true
    },
    "kernelspec": {
      "name": "python3",
      "display_name": "Python 3"
    },
    "language_info": {
      "name": "python"
    }
  },
  "cells": [
    {
      "cell_type": "markdown",
      "metadata": {
        "id": "view-in-github",
        "colab_type": "text"
      },
      "source": [
        "<a href=\"https://colab.research.google.com/github/CodeWithNikesh/machine-learning-algorithm_/blob/main/Linear_Regression_algorith_from_scratch_with_ols.ipynb\" target=\"_parent\"><img src=\"https://colab.research.google.com/assets/colab-badge.svg\" alt=\"Open In Colab\"/></a>"
      ]
    },
    {
      "cell_type": "code",
      "execution_count": null,
      "metadata": {
        "id": "p_mzqFahzLcX"
      },
      "outputs": [],
      "source": [
        "import numpy as np\n",
        "import pandas as pd\n",
        "\n",
        "class OLSLinearRegression:\n",
        "\n",
        "  # creating constructor for intercept and slop\n",
        "  def __init__(self):\n",
        "    self.coef_ = None\n",
        "    self.intercept_ = None\n",
        "\n",
        "  # creating a function to train model\n",
        "  def fit(self,X_train,y_train):\n",
        "\n",
        "    # creating a column index 0 value with 1 for entire rows\n",
        "    X_train = np.insert(X_train,0,1,axis=1)\n",
        "\n",
        "    # calculating intercept and slop with the ols method\n",
        "    betas = np.linalg.inv(X_train.T @ X_train) @ X_train.T @ y_train\n",
        "    self.coef_ = betas[1:]\n",
        "    self.intercept_ = betas[0]\n",
        "\n",
        "  # creating a function for predict y\n",
        "\n",
        "  def predict(self,X_test):\n",
        "    return X_test @ self.coef_ + self.intercept_\n",
        "\n",
        "  # creating a loss functin to measure the error\n",
        "  def mse(self,y_test,y_predict):\n",
        "    return np.mean((y_test - y_predict)**2)\n",
        "\n",
        "  # creating a function to find the r2 score\n",
        "\n",
        "  def r2_score(self,y_test,y_predict):\n",
        "    ssr = np.sum((y_test -  y_predict)**2)\n",
        "\n",
        "    ssm = np.sum((y_test- np.mean(y_test))**2)\n",
        "    return 1 - (ssr/ssm)"
      ]
    },
    {
      "cell_type": "code",
      "source": [
        "import numpy as np\n",
        "\n",
        "# Set seed for reproducibility\n",
        "np.random.seed(42)\n",
        "\n",
        "# Generate 100 samples and 3 independent variables (features)\n",
        "X = np.random.rand(100, 3) * 10  # shape (100, 3)\n",
        "\n",
        "# Define true coefficients for y = 4*X1 + 3*X2 - 2*X3 + 5 + noise\n",
        "true_coefs = np.array([4, 3, -2])\n",
        "intercept = 5\n",
        "noise = np.random.randn(100)  # random noise\n",
        "\n",
        "# Generate target variable\n",
        "y = X @ true_coefs + intercept + noise  # shape (100,)\n",
        "\n",
        "# Split into training and testing sets\n",
        "from sklearn.model_selection import train_test_split\n",
        "X_train, X_test, y_train, y_test = train_test_split(X, y, test_size=0.2, random_state=42)\n"
      ],
      "metadata": {
        "id": "24uzPEVrzVXl"
      },
      "execution_count": null,
      "outputs": []
    },
    {
      "cell_type": "code",
      "source": [
        "model = OLSLinearRegression()\n",
        "model.fit(X_train, y_train)\n",
        "\n",
        "y_pred = model.predict(X_test)\n",
        "\n",
        "print(\"MSE:\", model.mse(y_test, y_pred))\n",
        "print(\"R2 Score:\", model.r2_score(y_test, y_pred))\n"
      ],
      "metadata": {
        "id": "tuSkIyhqzbOP"
      },
      "execution_count": null,
      "outputs": []
    }
  ]
}